{
  "nbformat": 4,
  "nbformat_minor": 0,
  "metadata": {
    "colab": {
      "name": "NCU_DART_O2021_W8_HW.ipynb",
      "provenance": [],
      "collapsed_sections": []
    },
    "kernelspec": {
      "name": "python3",
      "display_name": "Python 3"
    },
    "language_info": {
      "name": "python"
    }
  },
  "cells": [
    {
      "cell_type": "code",
      "metadata": {
        "colab": {
          "base_uri": "https://localhost:8080/"
        },
        "id": "aL3eu64jpLEU",
        "outputId": "f190f40f-4330-44a8-9556-97d54121af9d"
      },
      "source": [
        "# 分解零：安裝 pyod\n",
        "! pip install pyod"
      ],
      "execution_count": 135,
      "outputs": [
        {
          "output_type": "stream",
          "text": [
            "Requirement already satisfied: pyod in /usr/local/lib/python3.7/dist-packages (0.9.2)\n",
            "Requirement already satisfied: numpy>=1.13 in /usr/local/lib/python3.7/dist-packages (from pyod) (1.19.5)\n",
            "Requirement already satisfied: scikit-learn>=0.20.0 in /usr/local/lib/python3.7/dist-packages (from pyod) (0.22.2.post1)\n",
            "Requirement already satisfied: scipy>=1.3.1 in /usr/local/lib/python3.7/dist-packages (from pyod) (1.4.1)\n",
            "Requirement already satisfied: matplotlib in /usr/local/lib/python3.7/dist-packages (from pyod) (3.2.2)\n",
            "Requirement already satisfied: six in /usr/local/lib/python3.7/dist-packages (from pyod) (1.15.0)\n",
            "Requirement already satisfied: numba>=0.35 in /usr/local/lib/python3.7/dist-packages (from pyod) (0.51.2)\n",
            "Requirement already satisfied: statsmodels in /usr/local/lib/python3.7/dist-packages (from pyod) (0.10.2)\n",
            "Requirement already satisfied: joblib in /usr/local/lib/python3.7/dist-packages (from pyod) (1.0.1)\n",
            "Requirement already satisfied: setuptools in /usr/local/lib/python3.7/dist-packages (from numba>=0.35->pyod) (57.4.0)\n",
            "Requirement already satisfied: llvmlite<0.35,>=0.34.0.dev0 in /usr/local/lib/python3.7/dist-packages (from numba>=0.35->pyod) (0.34.0)\n",
            "Requirement already satisfied: kiwisolver>=1.0.1 in /usr/local/lib/python3.7/dist-packages (from matplotlib->pyod) (1.3.1)\n",
            "Requirement already satisfied: python-dateutil>=2.1 in /usr/local/lib/python3.7/dist-packages (from matplotlib->pyod) (2.8.2)\n",
            "Requirement already satisfied: pyparsing!=2.0.4,!=2.1.2,!=2.1.6,>=2.0.1 in /usr/local/lib/python3.7/dist-packages (from matplotlib->pyod) (2.4.7)\n",
            "Requirement already satisfied: cycler>=0.10 in /usr/local/lib/python3.7/dist-packages (from matplotlib->pyod) (0.10.0)\n",
            "Requirement already satisfied: pandas>=0.19 in /usr/local/lib/python3.7/dist-packages (from statsmodels->pyod) (1.1.5)\n",
            "Requirement already satisfied: patsy>=0.4.0 in /usr/local/lib/python3.7/dist-packages (from statsmodels->pyod) (0.5.1)\n",
            "Requirement already satisfied: pytz>=2017.2 in /usr/local/lib/python3.7/dist-packages (from pandas>=0.19->statsmodels->pyod) (2018.9)\n"
          ],
          "name": "stdout"
        }
      ]
    },
    {
      "cell_type": "code",
      "metadata": {
        "id": "SkyPj_kOpXpN"
      },
      "source": [
        "# 分解一：預先載入函式庫\n",
        "from pandas import read_csv\n",
        "from pyod.models.knn import KNN\n",
        "from pyod.utils.data import evaluate_print  # 評估預測結果函式\n",
        "from sklearn.preprocessing import LabelEncoder\n",
        "from sklearn.model_selection import train_test_split"
      ],
      "execution_count": 136,
      "outputs": []
    },
    {
      "cell_type": "code",
      "metadata": {
        "id": "mHBWL_XBrJNq"
      },
      "source": [
        "# 分解二：資料集的載入與預先處理\n",
        "# load ionosphere dataset\n",
        "url = 'https://raw.githubusercontent.com/jbrownlee/Datasets/master/ionosphere.csv'\n",
        "dataframe = read_csv(url, header=None)\n",
        "\n",
        "# spilt into input and output data\n",
        "data = dataframe.values\n",
        "X, y = data[:, :-1] , data[:, -1]\n",
        "\n",
        "# label y -> [0,1]\n",
        "enc = LabelEncoder()\n",
        "enc.fit(y)\n",
        "y = enc.transform(y)\n",
        "y = abs(y-1)\n",
        "\n",
        "# spilt into train and test set\n",
        "X_train, X_test, y_train, y_test = train_test_split(X, y, test_size=0.2, random_state=33)"
      ],
      "execution_count": 137,
      "outputs": []
    },
    {
      "cell_type": "code",
      "metadata": {
        "colab": {
          "base_uri": "https://localhost:8080/"
        },
        "id": "6FkwXxMpukHM",
        "outputId": "f14ae51e-9f33-4f48-cd05-1ad1b3518d7f"
      },
      "source": [
        "# 分解三：模型的訓練與評分 \n",
        "clf_name = 'KNN'  # 可用於打印評估方法時，作為變數表示檢測器的類型\n",
        "clf = KNN()\n",
        "clf.fit(X_train)\n",
        "\n",
        "y_train_pred = clf.labels_  \n",
        "y_train_scores = clf.decision_scores_  \n",
        "\n",
        "y_test_pred = clf.predict(X_test)  \n",
        "y_test_scores = clf.decision_function(X_test)\n",
        "\n",
        "print(\"On Training Data:\")\n",
        "evaluate_print(clf_name, y_train, y_train_scores)\n",
        "print(\"\\nOn Test Data:\")\n",
        "evaluate_print(clf_name, y_test, y_test_scores)"
      ],
      "execution_count": 138,
      "outputs": [
        {
          "output_type": "stream",
          "text": [
            "On Training Data:\n",
            "KNN ROC:0.92, precision @ rank n:0.8624\n",
            "\n",
            "On Test Data:\n",
            "KNN ROC:0.9575, precision @ rank n:0.9412\n"
          ],
          "name": "stdout"
        }
      ]
    }
  ]
}