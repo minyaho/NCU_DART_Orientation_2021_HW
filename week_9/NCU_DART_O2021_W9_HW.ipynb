{
  "nbformat": 4,
  "nbformat_minor": 0,
  "metadata": {
    "colab": {
      "name": "NCU_DART_O2021_W9_HW.ipynb",
      "provenance": []
    },
    "kernelspec": {
      "name": "python3",
      "display_name": "Python 3"
    },
    "language_info": {
      "name": "python"
    }
  },
  "cells": [
    {
      "cell_type": "markdown",
      "metadata": {
        "id": "czUmXdKATFR6"
      },
      "source": [
        "# HW: Gensim - Similarity Queries By LSA model"
      ]
    },
    {
      "cell_type": "code",
      "metadata": {
        "colab": {
          "base_uri": "https://localhost:8080/"
        },
        "id": "x3fwedWCOoO7",
        "outputId": "1bd8af5d-2a11-4c6a-cfb1-2982301ccace"
      },
      "source": [
        "# Install Gensim\n",
        "\n",
        "! pip install gensim"
      ],
      "execution_count": 1,
      "outputs": [
        {
          "output_type": "stream",
          "name": "stdout",
          "text": [
            "Requirement already satisfied: gensim in /usr/local/lib/python3.7/dist-packages (3.6.0)\n",
            "Requirement already satisfied: smart-open>=1.2.1 in /usr/local/lib/python3.7/dist-packages (from gensim) (5.1.0)\n",
            "Requirement already satisfied: six>=1.5.0 in /usr/local/lib/python3.7/dist-packages (from gensim) (1.15.0)\n",
            "Requirement already satisfied: numpy>=1.11.3 in /usr/local/lib/python3.7/dist-packages (from gensim) (1.19.5)\n",
            "Requirement already satisfied: scipy>=0.18.1 in /usr/local/lib/python3.7/dist-packages (from gensim) (1.4.1)\n"
          ]
        }
      ]
    },
    {
      "cell_type": "code",
      "metadata": {
        "id": "0-Q9_GxeOxh0"
      },
      "source": [
        "# Corpus data\n",
        "\n",
        "documents = [\n",
        "    \"Human machine interface for lab abc computer applications\",\n",
        "    \"A survey of user opinion of computer system response time\",\n",
        "    \"The EPS user interface management system\",\n",
        "    \"System and human system engineering testing of EPS\",\n",
        "    \"Relation of user perceived response time to error measurement\",\n",
        "    \"The generation of random binary unordered trees\",\n",
        "    \"The intersection graph of paths in trees\",\n",
        "    \"Graph minors IV Widths of trees and well quasi ordering\",\n",
        "    \"Graph minors A survey\",\n",
        "]"
      ],
      "execution_count": 2,
      "outputs": []
    },
    {
      "cell_type": "code",
      "metadata": {
        "id": "QQJZo38AO7jk"
      },
      "source": [
        "# Pre-prepare corpus\n",
        "\n",
        "from collections import defaultdict\n",
        "# remove common words and tokenize\n",
        "stoplist = set('for a of the and to in'.split())\n",
        "texts = [\n",
        "    [word for word in document.lower().split() if word not in stoplist]\n",
        "    for document in documents\n",
        "]\n",
        "\n",
        "# remove words that appear only once\n",
        "frequency = defaultdict(int)\n",
        "for text in texts:\n",
        "    for token in text:\n",
        "        frequency[token] += 1\n",
        "\n",
        "texts = [\n",
        "    [token for token in text if frequency[token] > 1]\n",
        "    for text in texts\n",
        "]"
      ],
      "execution_count": 3,
      "outputs": []
    },
    {
      "cell_type": "code",
      "metadata": {
        "id": "JseHejv0PN5G"
      },
      "source": [
        "# Make Dictionary\n",
        "\n",
        "from gensim import corpora\n",
        "dictionary = corpora.Dictionary(texts)"
      ],
      "execution_count": 4,
      "outputs": []
    },
    {
      "cell_type": "code",
      "metadata": {
        "id": "ys1IbB36P9y2"
      },
      "source": [
        "# Transform corpus to bag-of-word\n",
        "\n",
        "bow_corpus = [dictionary.doc2bow(text) for text in texts]"
      ],
      "execution_count": 5,
      "outputs": []
    },
    {
      "cell_type": "code",
      "metadata": {
        "id": "RMLD-sFyQYxZ"
      },
      "source": [
        "# Train the model\n",
        "\n",
        "from gensim import models\n",
        "lsi= models.LsiModel(corpus = bow_corpus, num_topics=2, id2word=dictionary)\n",
        "corpus_lsi = lsi[bow_corpus]"
      ],
      "execution_count": 7,
      "outputs": []
    },
    {
      "cell_type": "code",
      "metadata": {
        "id": "CdGUw2bJRQZ3"
      },
      "source": [
        "# Input query document\n",
        "\n",
        "new_doc = \"Human computer interaction\"\n",
        "new_vec = dictionary.doc2bow(new_doc.lower().split())\n",
        "vec_lsi = lsi[new_vec]"
      ],
      "execution_count": 10,
      "outputs": []
    },
    {
      "cell_type": "code",
      "metadata": {
        "colab": {
          "base_uri": "https://localhost:8080/"
        },
        "id": "aFViLmy2QftO",
        "outputId": "94fe77f8-b497-4bf7-ee46-0454bf6ff704"
      },
      "source": [
        "# Similarity Queries\n",
        "\n",
        "from gensim import similarities\n",
        "\n",
        "index = similarities.MatrixSimilarity(corpus_lsi)\n",
        "sims = index[vec_lsi]\n",
        "\n",
        "sims = sorted(enumerate(sims), key= lambda item: -item[1])\n",
        "\n",
        "print('{:8} {:} {:}'.format('Score', '\\t', 'Document'))\n",
        "print('{:8} {:} {:}'.format('---','\\t','---'))\n",
        "for doc_position, doc_score in sims:\n",
        "    print('{:.6f} {:} {:}'.format(doc_score, '\\t', documents[doc_position]))"
      ],
      "execution_count": 14,
      "outputs": [
        {
          "output_type": "stream",
          "name": "stdout",
          "text": [
            "Score    \t Document\n",
            "---      \t ---\n",
            "0.998445 \t The EPS user interface management system\n",
            "0.998093 \t Human machine interface for lab abc computer applications\n",
            "0.986589 \t System and human system engineering testing of EPS\n",
            "0.937486 \t A survey of user opinion of computer system response time\n",
            "0.907559 \t Relation of user perceived response time to error measurement\n",
            "0.050042 \t Graph minors A survey\n",
            "-0.098795 \t Graph minors IV Widths of trees and well quasi ordering\n",
            "-0.106393 \t The intersection graph of paths in trees\n",
            "-0.124168 \t The generation of random binary unordered trees\n"
          ]
        }
      ]
    },
    {
      "cell_type": "markdown",
      "metadata": {
        "id": "S5cbMg7bTXoH"
      },
      "source": [
        "# Another HW: Edit the num_topic"
      ]
    },
    {
      "cell_type": "code",
      "metadata": {
        "colab": {
          "base_uri": "https://localhost:8080/"
        },
        "id": "t-jbxmJ9TPpG",
        "outputId": "54bc7167-920f-4f3b-9600-10279dfc27bf"
      },
      "source": [
        "# Edit the num_topic\n",
        "from gensim import models\n",
        "lsi= models.LsiModel(corpus = bow_corpus, num_topics=3, id2word=dictionary)\n",
        "corpus_lsi = lsi[bow_corpus]\n",
        "\n",
        "# Input query document\n",
        "new_doc = \"Human computer interaction\"\n",
        "new_vec = dictionary.doc2bow(new_doc.lower().split())\n",
        "vec_lsi = lsi[new_vec]\n",
        "\n",
        "# Similarity Queries\n",
        "from gensim import similarities\n",
        "\n",
        "index = similarities.MatrixSimilarity(corpus_lsi)\n",
        "sims = index[vec_lsi]\n",
        "\n",
        "sims = sorted(enumerate(sims), key= lambda item: -item[1])\n",
        "\n",
        "print('{:8} {:} {:}'.format('Score', '\\t', 'Document'))\n",
        "print('{:8} {:} {:}'.format('---','\\t','---'))\n",
        "for doc_position, doc_score in sims:\n",
        "    print('{:.6f} {:} {:}'.format(doc_score, '\\t', documents[doc_position]))"
      ],
      "execution_count": 18,
      "outputs": [
        {
          "output_type": "stream",
          "name": "stdout",
          "text": [
            "Score    \t Document\n",
            "---      \t ---\n",
            "0.997788 \t The EPS user interface management system\n",
            "0.992586 \t Human machine interface for lab abc computer applications\n",
            "0.927698 \t System and human system engineering testing of EPS\n",
            "0.661374 \t A survey of user opinion of computer system response time\n",
            "0.355441 \t Relation of user perceived response time to error measurement\n",
            "0.082568 \t Graph minors A survey\n",
            "0.002334 \t Graph minors IV Widths of trees and well quasi ordering\n",
            "0.002063 \t The intersection graph of paths in trees\n",
            "0.001308 \t The generation of random binary unordered trees\n"
          ]
        }
      ]
    },
    {
      "cell_type": "markdown",
      "metadata": {
        "id": "L48vHZOLZsm1"
      },
      "source": [
        "# Another HW: Bow -> Tf-idf -> LSA"
      ]
    },
    {
      "cell_type": "code",
      "metadata": {
        "id": "lYFwCeTHZmTm"
      },
      "source": [
        "from gensim import models\n",
        "tfidf = models.TfidfModel(bow_corpus)\n",
        "corpus_tfidf = tfidf[bow_corpus]\n",
        "\n",
        "lsi= models.LsiModel(corpus = corpus_tfidf, num_topics=4, id2word=dictionary)\n",
        "corpus_lsi = lsi[corpus_tfidf]"
      ],
      "execution_count": 24,
      "outputs": []
    },
    {
      "cell_type": "code",
      "metadata": {
        "id": "eey4PSG_aLAZ"
      },
      "source": [
        "new_doc = \"Human computer interaction\"\n",
        "new_vec = dictionary.doc2bow(new_doc.lower().split())\n",
        "vec_tfidf = tfidf[new_vec]\n",
        "vec_lsi = lsi[vec_tfidf]"
      ],
      "execution_count": 25,
      "outputs": []
    },
    {
      "cell_type": "code",
      "metadata": {
        "colab": {
          "base_uri": "https://localhost:8080/"
        },
        "id": "pUsg21VgaV0T",
        "outputId": "7ee5cee1-c918-4a63-f742-a05bdcc48f4d"
      },
      "source": [
        "from gensim import similarities\n",
        "\n",
        "index = similarities.MatrixSimilarity(corpus_lsi)\n",
        "sims = index[vec_lsi]\n",
        "\n",
        "sims = sorted(enumerate(sims), key= lambda item: -item[1])\n",
        "\n",
        "print('{:8} {:} {:}'.format('Score', '\\t', 'Document'))\n",
        "print('{:8} {:} {:}'.format('---','\\t','---'))\n",
        "for doc_position, doc_score in sims:\n",
        "    print('{:.6f} {:} {:}'.format(doc_score, '\\t', documents[doc_position]))"
      ],
      "execution_count": 26,
      "outputs": [
        {
          "output_type": "stream",
          "name": "stdout",
          "text": [
            "Score    \t Document\n",
            "---      \t ---\n",
            "0.994644 \t Human machine interface for lab abc computer applications\n",
            "0.983076 \t The EPS user interface management system\n",
            "0.981626 \t System and human system engineering testing of EPS\n",
            "0.437642 \t A survey of user opinion of computer system response time\n",
            "0.116106 \t Relation of user perceived response time to error measurement\n",
            "0.111599 \t Graph minors A survey\n",
            "0.024265 \t Graph minors IV Widths of trees and well quasi ordering\n",
            "-0.025438 \t The intersection graph of paths in trees\n",
            "-0.063449 \t The generation of random binary unordered trees\n"
          ]
        }
      ]
    }
  ]
}